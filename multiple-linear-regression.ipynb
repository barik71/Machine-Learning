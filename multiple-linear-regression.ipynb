{
 "cells": [
  {
   "cell_type": "code",
   "execution_count": 1,
   "id": "a085f1c7",
   "metadata": {
    "_cell_guid": "b1076dfc-b9ad-4769-8c92-a6c4dae69d19",
    "_uuid": "8f2839f25d086af736a60e9eeb907d3b93b6e0e5",
    "execution": {
     "iopub.execute_input": "2025-03-20T10:21:00.683068Z",
     "iopub.status.busy": "2025-03-20T10:21:00.682609Z",
     "iopub.status.idle": "2025-03-20T10:21:01.696476Z",
     "shell.execute_reply": "2025-03-20T10:21:01.695410Z"
    },
    "papermill": {
     "duration": 1.021645,
     "end_time": "2025-03-20T10:21:01.698294",
     "exception": false,
     "start_time": "2025-03-20T10:21:00.676649",
     "status": "completed"
    },
    "tags": []
   },
   "outputs": [],
   "source": [
    "# This Python 3 environment comes with many helpful analytics libraries installed\n",
    "# It is defined by the kaggle/python Docker image: https://github.com/kaggle/docker-python\n",
    "# For example, here's several helpful packages to load\n",
    "\n",
    "import numpy as np # linear algebra\n",
    "import pandas as pd # data processing, CSV file I/O (e.g. pd.read_csv)\n",
    "\n",
    "# Input data files are available in the read-only \"../input/\" directory\n",
    "# For example, running this (by clicking run or pressing Shift+Enter) will list all files under the input directory\n",
    "\n",
    "import os\n",
    "for dirname, _, filenames in os.walk('/kaggle/input'):\n",
    "    for filename in filenames:\n",
    "        print(os.path.join(dirname, filename))\n",
    "\n",
    "# You can write up to 20GB to the current directory (/kaggle/working/) that gets preserved as output when you create a version using \"Save & Run All\" \n",
    "# You can also write temporary files to /kaggle/temp/, but they won't be saved outside of the current session"
   ]
  },
  {
   "cell_type": "code",
   "execution_count": 2,
   "id": "066879e1",
   "metadata": {
    "execution": {
     "iopub.execute_input": "2025-03-20T10:21:01.707352Z",
     "iopub.status.busy": "2025-03-20T10:21:01.706824Z",
     "iopub.status.idle": "2025-03-20T10:21:03.246926Z",
     "shell.execute_reply": "2025-03-20T10:21:03.245961Z"
    },
    "papermill": {
     "duration": 1.546527,
     "end_time": "2025-03-20T10:21:03.248865",
     "exception": false,
     "start_time": "2025-03-20T10:21:01.702338",
     "status": "completed"
    },
    "tags": []
   },
   "outputs": [],
   "source": [
    "from sklearn.datasets import load_diabetes"
   ]
  },
  {
   "cell_type": "code",
   "execution_count": 3,
   "id": "e405346d",
   "metadata": {
    "execution": {
     "iopub.execute_input": "2025-03-20T10:21:03.257836Z",
     "iopub.status.busy": "2025-03-20T10:21:03.257311Z",
     "iopub.status.idle": "2025-03-20T10:21:03.277504Z",
     "shell.execute_reply": "2025-03-20T10:21:03.276555Z"
    },
    "papermill": {
     "duration": 0.026514,
     "end_time": "2025-03-20T10:21:03.279290",
     "exception": false,
     "start_time": "2025-03-20T10:21:03.252776",
     "status": "completed"
    },
    "tags": []
   },
   "outputs": [],
   "source": [
    "x,y = load_diabetes(return_X_y = True)"
   ]
  },
  {
   "cell_type": "code",
   "execution_count": 4,
   "id": "a309129e",
   "metadata": {
    "execution": {
     "iopub.execute_input": "2025-03-20T10:21:03.287936Z",
     "iopub.status.busy": "2025-03-20T10:21:03.287581Z",
     "iopub.status.idle": "2025-03-20T10:21:03.293598Z",
     "shell.execute_reply": "2025-03-20T10:21:03.292630Z"
    },
    "papermill": {
     "duration": 0.012319,
     "end_time": "2025-03-20T10:21:03.295397",
     "exception": false,
     "start_time": "2025-03-20T10:21:03.283078",
     "status": "completed"
    },
    "tags": []
   },
   "outputs": [
    {
     "data": {
      "text/plain": [
       "(442, 10)"
      ]
     },
     "execution_count": 4,
     "metadata": {},
     "output_type": "execute_result"
    }
   ],
   "source": [
    "x.shape"
   ]
  },
  {
   "cell_type": "code",
   "execution_count": 5,
   "id": "c0f81fea",
   "metadata": {
    "execution": {
     "iopub.execute_input": "2025-03-20T10:21:03.304494Z",
     "iopub.status.busy": "2025-03-20T10:21:03.304154Z",
     "iopub.status.idle": "2025-03-20T10:21:03.309530Z",
     "shell.execute_reply": "2025-03-20T10:21:03.308620Z"
    },
    "papermill": {
     "duration": 0.01151,
     "end_time": "2025-03-20T10:21:03.311007",
     "exception": false,
     "start_time": "2025-03-20T10:21:03.299497",
     "status": "completed"
    },
    "tags": []
   },
   "outputs": [
    {
     "data": {
      "text/plain": [
       "(442,)"
      ]
     },
     "execution_count": 5,
     "metadata": {},
     "output_type": "execute_result"
    }
   ],
   "source": [
    "y.shape"
   ]
  },
  {
   "cell_type": "code",
   "execution_count": 6,
   "id": "4d4bf72a",
   "metadata": {
    "execution": {
     "iopub.execute_input": "2025-03-20T10:21:03.319807Z",
     "iopub.status.busy": "2025-03-20T10:21:03.319462Z",
     "iopub.status.idle": "2025-03-20T10:21:03.325663Z",
     "shell.execute_reply": "2025-03-20T10:21:03.324701Z"
    },
    "papermill": {
     "duration": 0.012365,
     "end_time": "2025-03-20T10:21:03.327250",
     "exception": false,
     "start_time": "2025-03-20T10:21:03.314885",
     "status": "completed"
    },
    "tags": []
   },
   "outputs": [
    {
     "data": {
      "text/plain": [
       "array([[ 0.03807591,  0.05068012,  0.06169621, ..., -0.00259226,\n",
       "         0.01990749, -0.01764613],\n",
       "       [-0.00188202, -0.04464164, -0.05147406, ..., -0.03949338,\n",
       "        -0.06833155, -0.09220405],\n",
       "       [ 0.08529891,  0.05068012,  0.04445121, ..., -0.00259226,\n",
       "         0.00286131, -0.02593034],\n",
       "       ...,\n",
       "       [ 0.04170844,  0.05068012, -0.01590626, ..., -0.01107952,\n",
       "        -0.04688253,  0.01549073],\n",
       "       [-0.04547248, -0.04464164,  0.03906215, ...,  0.02655962,\n",
       "         0.04452873, -0.02593034],\n",
       "       [-0.04547248, -0.04464164, -0.0730303 , ..., -0.03949338,\n",
       "        -0.00422151,  0.00306441]])"
      ]
     },
     "execution_count": 6,
     "metadata": {},
     "output_type": "execute_result"
    }
   ],
   "source": [
    "x"
   ]
  },
  {
   "cell_type": "markdown",
   "id": "0f7aab50",
   "metadata": {
    "papermill": {
     "duration": 0.003725,
     "end_time": "2025-03-20T10:21:03.335037",
     "exception": false,
     "start_time": "2025-03-20T10:21:03.331312",
     "status": "completed"
    },
    "tags": []
   },
   "source": [
    "**Using Sklearn Linear Regression**"
   ]
  },
  {
   "cell_type": "code",
   "execution_count": 7,
   "id": "78918280",
   "metadata": {
    "execution": {
     "iopub.execute_input": "2025-03-20T10:21:03.344077Z",
     "iopub.status.busy": "2025-03-20T10:21:03.343741Z",
     "iopub.status.idle": "2025-03-20T10:21:03.476004Z",
     "shell.execute_reply": "2025-03-20T10:21:03.474970Z"
    },
    "papermill": {
     "duration": 0.1389,
     "end_time": "2025-03-20T10:21:03.477820",
     "exception": false,
     "start_time": "2025-03-20T10:21:03.338920",
     "status": "completed"
    },
    "tags": []
   },
   "outputs": [],
   "source": [
    "from sklearn.model_selection import train_test_split\n",
    "x_train,x_test,y_train , y_test = train_test_split(x,y,train_size = 0.2,random_state=2)"
   ]
  },
  {
   "cell_type": "code",
   "execution_count": 8,
   "id": "3c0464ef",
   "metadata": {
    "execution": {
     "iopub.execute_input": "2025-03-20T10:21:03.487401Z",
     "iopub.status.busy": "2025-03-20T10:21:03.487035Z",
     "iopub.status.idle": "2025-03-20T10:21:03.610993Z",
     "shell.execute_reply": "2025-03-20T10:21:03.610003Z"
    },
    "papermill": {
     "duration": 0.130565,
     "end_time": "2025-03-20T10:21:03.612804",
     "exception": false,
     "start_time": "2025-03-20T10:21:03.482239",
     "status": "completed"
    },
    "tags": []
   },
   "outputs": [],
   "source": [
    "from sklearn.linear_model import LinearRegression"
   ]
  },
  {
   "cell_type": "code",
   "execution_count": 9,
   "id": "e15d713a",
   "metadata": {
    "execution": {
     "iopub.execute_input": "2025-03-20T10:21:03.621891Z",
     "iopub.status.busy": "2025-03-20T10:21:03.621561Z",
     "iopub.status.idle": "2025-03-20T10:21:03.625352Z",
     "shell.execute_reply": "2025-03-20T10:21:03.624433Z"
    },
    "papermill": {
     "duration": 0.009975,
     "end_time": "2025-03-20T10:21:03.626810",
     "exception": false,
     "start_time": "2025-03-20T10:21:03.616835",
     "status": "completed"
    },
    "tags": []
   },
   "outputs": [],
   "source": [
    "reg = LinearRegression()"
   ]
  },
  {
   "cell_type": "code",
   "execution_count": 10,
   "id": "874094d6",
   "metadata": {
    "execution": {
     "iopub.execute_input": "2025-03-20T10:21:03.635860Z",
     "iopub.status.busy": "2025-03-20T10:21:03.635481Z",
     "iopub.status.idle": "2025-03-20T10:21:03.698632Z",
     "shell.execute_reply": "2025-03-20T10:21:03.697492Z"
    },
    "papermill": {
     "duration": 0.069403,
     "end_time": "2025-03-20T10:21:03.700261",
     "exception": false,
     "start_time": "2025-03-20T10:21:03.630858",
     "status": "completed"
    },
    "tags": []
   },
   "outputs": [
    {
     "data": {
      "text/html": [
       "<style>#sk-container-id-1 {color: black;background-color: white;}#sk-container-id-1 pre{padding: 0;}#sk-container-id-1 div.sk-toggleable {background-color: white;}#sk-container-id-1 label.sk-toggleable__label {cursor: pointer;display: block;width: 100%;margin-bottom: 0;padding: 0.3em;box-sizing: border-box;text-align: center;}#sk-container-id-1 label.sk-toggleable__label-arrow:before {content: \"▸\";float: left;margin-right: 0.25em;color: #696969;}#sk-container-id-1 label.sk-toggleable__label-arrow:hover:before {color: black;}#sk-container-id-1 div.sk-estimator:hover label.sk-toggleable__label-arrow:before {color: black;}#sk-container-id-1 div.sk-toggleable__content {max-height: 0;max-width: 0;overflow: hidden;text-align: left;background-color: #f0f8ff;}#sk-container-id-1 div.sk-toggleable__content pre {margin: 0.2em;color: black;border-radius: 0.25em;background-color: #f0f8ff;}#sk-container-id-1 input.sk-toggleable__control:checked~div.sk-toggleable__content {max-height: 200px;max-width: 100%;overflow: auto;}#sk-container-id-1 input.sk-toggleable__control:checked~label.sk-toggleable__label-arrow:before {content: \"▾\";}#sk-container-id-1 div.sk-estimator input.sk-toggleable__control:checked~label.sk-toggleable__label {background-color: #d4ebff;}#sk-container-id-1 div.sk-label input.sk-toggleable__control:checked~label.sk-toggleable__label {background-color: #d4ebff;}#sk-container-id-1 input.sk-hidden--visually {border: 0;clip: rect(1px 1px 1px 1px);clip: rect(1px, 1px, 1px, 1px);height: 1px;margin: -1px;overflow: hidden;padding: 0;position: absolute;width: 1px;}#sk-container-id-1 div.sk-estimator {font-family: monospace;background-color: #f0f8ff;border: 1px dotted black;border-radius: 0.25em;box-sizing: border-box;margin-bottom: 0.5em;}#sk-container-id-1 div.sk-estimator:hover {background-color: #d4ebff;}#sk-container-id-1 div.sk-parallel-item::after {content: \"\";width: 100%;border-bottom: 1px solid gray;flex-grow: 1;}#sk-container-id-1 div.sk-label:hover label.sk-toggleable__label {background-color: #d4ebff;}#sk-container-id-1 div.sk-serial::before {content: \"\";position: absolute;border-left: 1px solid gray;box-sizing: border-box;top: 0;bottom: 0;left: 50%;z-index: 0;}#sk-container-id-1 div.sk-serial {display: flex;flex-direction: column;align-items: center;background-color: white;padding-right: 0.2em;padding-left: 0.2em;position: relative;}#sk-container-id-1 div.sk-item {position: relative;z-index: 1;}#sk-container-id-1 div.sk-parallel {display: flex;align-items: stretch;justify-content: center;background-color: white;position: relative;}#sk-container-id-1 div.sk-item::before, #sk-container-id-1 div.sk-parallel-item::before {content: \"\";position: absolute;border-left: 1px solid gray;box-sizing: border-box;top: 0;bottom: 0;left: 50%;z-index: -1;}#sk-container-id-1 div.sk-parallel-item {display: flex;flex-direction: column;z-index: 1;position: relative;background-color: white;}#sk-container-id-1 div.sk-parallel-item:first-child::after {align-self: flex-end;width: 50%;}#sk-container-id-1 div.sk-parallel-item:last-child::after {align-self: flex-start;width: 50%;}#sk-container-id-1 div.sk-parallel-item:only-child::after {width: 0;}#sk-container-id-1 div.sk-dashed-wrapped {border: 1px dashed gray;margin: 0 0.4em 0.5em 0.4em;box-sizing: border-box;padding-bottom: 0.4em;background-color: white;}#sk-container-id-1 div.sk-label label {font-family: monospace;font-weight: bold;display: inline-block;line-height: 1.2em;}#sk-container-id-1 div.sk-label-container {text-align: center;}#sk-container-id-1 div.sk-container {/* jupyter's `normalize.less` sets `[hidden] { display: none; }` but bootstrap.min.css set `[hidden] { display: none !important; }` so we also need the `!important` here to be able to override the default hidden behavior on the sphinx rendered scikit-learn.org. See: https://github.com/scikit-learn/scikit-learn/issues/21755 */display: inline-block !important;position: relative;}#sk-container-id-1 div.sk-text-repr-fallback {display: none;}</style><div id=\"sk-container-id-1\" class=\"sk-top-container\"><div class=\"sk-text-repr-fallback\"><pre>LinearRegression()</pre><b>In a Jupyter environment, please rerun this cell to show the HTML representation or trust the notebook. <br />On GitHub, the HTML representation is unable to render, please try loading this page with nbviewer.org.</b></div><div class=\"sk-container\" hidden><div class=\"sk-item\"><div class=\"sk-estimator sk-toggleable\"><input class=\"sk-toggleable__control sk-hidden--visually\" id=\"sk-estimator-id-1\" type=\"checkbox\" checked><label for=\"sk-estimator-id-1\" class=\"sk-toggleable__label sk-toggleable__label-arrow\">LinearRegression</label><div class=\"sk-toggleable__content\"><pre>LinearRegression()</pre></div></div></div></div></div>"
      ],
      "text/plain": [
       "LinearRegression()"
      ]
     },
     "execution_count": 10,
     "metadata": {},
     "output_type": "execute_result"
    }
   ],
   "source": [
    "reg.fit(x_train,y_train)"
   ]
  },
  {
   "cell_type": "code",
   "execution_count": 11,
   "id": "6655e0ff",
   "metadata": {
    "execution": {
     "iopub.execute_input": "2025-03-20T10:21:03.709616Z",
     "iopub.status.busy": "2025-03-20T10:21:03.709264Z",
     "iopub.status.idle": "2025-03-20T10:21:03.715148Z",
     "shell.execute_reply": "2025-03-20T10:21:03.714124Z"
    },
    "papermill": {
     "duration": 0.01238,
     "end_time": "2025-03-20T10:21:03.716843",
     "exception": false,
     "start_time": "2025-03-20T10:21:03.704463",
     "status": "completed"
    },
    "tags": []
   },
   "outputs": [],
   "source": [
    "y_pred = reg.predict(x_test)"
   ]
  },
  {
   "cell_type": "code",
   "execution_count": 12,
   "id": "3902fb45",
   "metadata": {
    "execution": {
     "iopub.execute_input": "2025-03-20T10:21:03.726379Z",
     "iopub.status.busy": "2025-03-20T10:21:03.726051Z",
     "iopub.status.idle": "2025-03-20T10:21:03.729955Z",
     "shell.execute_reply": "2025-03-20T10:21:03.729087Z"
    },
    "papermill": {
     "duration": 0.01051,
     "end_time": "2025-03-20T10:21:03.731651",
     "exception": false,
     "start_time": "2025-03-20T10:21:03.721141",
     "status": "completed"
    },
    "tags": []
   },
   "outputs": [],
   "source": [
    "from sklearn.metrics import r2_score"
   ]
  },
  {
   "cell_type": "code",
   "execution_count": 13,
   "id": "89516c28",
   "metadata": {
    "execution": {
     "iopub.execute_input": "2025-03-20T10:21:03.741276Z",
     "iopub.status.busy": "2025-03-20T10:21:03.740943Z",
     "iopub.status.idle": "2025-03-20T10:21:03.747661Z",
     "shell.execute_reply": "2025-03-20T10:21:03.746428Z"
    },
    "papermill": {
     "duration": 0.013378,
     "end_time": "2025-03-20T10:21:03.749269",
     "exception": false,
     "start_time": "2025-03-20T10:21:03.735891",
     "status": "completed"
    },
    "tags": []
   },
   "outputs": [
    {
     "data": {
      "text/plain": [
       "0.4363324180051509"
      ]
     },
     "execution_count": 13,
     "metadata": {},
     "output_type": "execute_result"
    }
   ],
   "source": [
    "r2_score(y_test,y_pred)"
   ]
  },
  {
   "cell_type": "code",
   "execution_count": 14,
   "id": "ad902c8a",
   "metadata": {
    "execution": {
     "iopub.execute_input": "2025-03-20T10:21:03.759175Z",
     "iopub.status.busy": "2025-03-20T10:21:03.758848Z",
     "iopub.status.idle": "2025-03-20T10:21:03.764810Z",
     "shell.execute_reply": "2025-03-20T10:21:03.763964Z"
    },
    "papermill": {
     "duration": 0.012771,
     "end_time": "2025-03-20T10:21:03.766447",
     "exception": false,
     "start_time": "2025-03-20T10:21:03.753676",
     "status": "completed"
    },
    "tags": []
   },
   "outputs": [
    {
     "data": {
      "text/plain": [
       "array([-153.22773884, -335.07708688,  433.57597999,  571.33275597,\n",
       "       -154.99783644, -133.66274008,  132.88369431,  392.06926947,\n",
       "        439.45442787,  288.24478886])"
      ]
     },
     "execution_count": 14,
     "metadata": {},
     "output_type": "execute_result"
    }
   ],
   "source": [
    "reg.coef_"
   ]
  },
  {
   "cell_type": "code",
   "execution_count": 15,
   "id": "e042fdca",
   "metadata": {
    "execution": {
     "iopub.execute_input": "2025-03-20T10:21:03.776633Z",
     "iopub.status.busy": "2025-03-20T10:21:03.776283Z",
     "iopub.status.idle": "2025-03-20T10:21:03.781655Z",
     "shell.execute_reply": "2025-03-20T10:21:03.780678Z"
    },
    "papermill": {
     "duration": 0.012256,
     "end_time": "2025-03-20T10:21:03.783291",
     "exception": false,
     "start_time": "2025-03-20T10:21:03.771035",
     "status": "completed"
    },
    "tags": []
   },
   "outputs": [
    {
     "data": {
      "text/plain": [
       "148.80753005087976"
      ]
     },
     "execution_count": 15,
     "metadata": {},
     "output_type": "execute_result"
    }
   ],
   "source": [
    "reg.intercept_"
   ]
  },
  {
   "cell_type": "code",
   "execution_count": null,
   "id": "d3de1368",
   "metadata": {
    "papermill": {
     "duration": 0.004143,
     "end_time": "2025-03-20T10:21:03.792037",
     "exception": false,
     "start_time": "2025-03-20T10:21:03.787894",
     "status": "completed"
    },
    "tags": []
   },
   "outputs": [],
   "source": []
  }
 ],
 "metadata": {
  "kaggle": {
   "accelerator": "none",
   "dataSources": [],
   "dockerImageVersionId": 30918,
   "isGpuEnabled": false,
   "isInternetEnabled": true,
   "language": "python",
   "sourceType": "notebook"
  },
  "kernelspec": {
   "display_name": "Python 3",
   "language": "python",
   "name": "python3"
  },
  "language_info": {
   "codemirror_mode": {
    "name": "ipython",
    "version": 3
   },
   "file_extension": ".py",
   "mimetype": "text/x-python",
   "name": "python",
   "nbconvert_exporter": "python",
   "pygments_lexer": "ipython3",
   "version": "3.10.12"
  },
  "papermill": {
   "default_parameters": {},
   "duration": 6.665607,
   "end_time": "2025-03-20T10:21:04.516147",
   "environment_variables": {},
   "exception": null,
   "input_path": "__notebook__.ipynb",
   "output_path": "__notebook__.ipynb",
   "parameters": {},
   "start_time": "2025-03-20T10:20:57.850540",
   "version": "2.6.0"
  }
 },
 "nbformat": 4,
 "nbformat_minor": 5
}
